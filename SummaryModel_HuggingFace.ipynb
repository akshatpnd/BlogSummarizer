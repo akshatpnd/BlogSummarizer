{
 "cells": [
  {
   "cell_type": "markdown",
   "id": "e8fcfd67",
   "metadata": {},
   "source": [
    "## Setup Environment"
   ]
  },
  {
   "cell_type": "code",
   "execution_count": 1,
   "id": "1452d650",
   "metadata": {},
   "outputs": [],
   "source": [
    "from transformers import pipeline\n",
    "from bs4 import BeautifulSoup\n",
    "import requests"
   ]
  },
  {
   "cell_type": "markdown",
   "id": "cdb60749",
   "metadata": {},
   "source": [
    "## Download Model"
   ]
  },
  {
   "cell_type": "code",
   "execution_count": 2,
   "id": "d43a1daf",
   "metadata": {},
   "outputs": [
    {
     "name": "stderr",
     "output_type": "stream",
     "text": [
      "No model was supplied, defaulted to sshleifer/distilbart-cnn-12-6 (https://huggingface.co/sshleifer/distilbart-cnn-12-6)\n"
     ]
    }
   ],
   "source": [
    "summarizer = pipeline(\"summarization\")"
   ]
  },
  {
   "cell_type": "markdown",
   "id": "47203ffd",
   "metadata": {},
   "source": [
    "## Setting Up and Scraping Data from Blog"
   ]
  },
  {
   "cell_type": "code",
   "execution_count": 3,
   "id": "25f1478c",
   "metadata": {},
   "outputs": [],
   "source": [
    "URL = \"https://hackernoon.com/what-good-is-a-metaverse-in-which-you-do-not-truly-own-your-assets\""
   ]
  },
  {
   "cell_type": "code",
   "execution_count": 5,
   "id": "240e8b11",
   "metadata": {},
   "outputs": [],
   "source": [
    "r = requests.get(URL)"
   ]
  },
  {
   "cell_type": "code",
   "execution_count": 8,
   "id": "62107c76",
   "metadata": {},
   "outputs": [],
   "source": [
    "soup = BeautifulSoup(r.text, 'html.parser')\n",
    "results = soup.find_all(['h1', 'h2', 'p'])\n",
    "text = [result.text for result in results]\n",
    "ARTICLE = ' '.join(text)"
   ]
  },
  {
   "cell_type": "code",
   "execution_count": 9,
   "id": "a9e041f4",
   "metadata": {},
   "outputs": [
    {
     "data": {
      "text/plain": [
       "'What Good is a Metaverse in Which You Do Not Truly Own Your Assets? Entrepreneur. Attorney. Athlete. I write about innovations in blockchain and crypto space. Passionate about DeFi. Non-fungible tokens (NFTs) were one of the hottest things in the blockchain ecosystem in 2021, representing more than $17 billion in trading. This year has been no different as the niche is still finding incredible success as more users, celebrities, and organizations adopt them. When it comes to NFTs - there is no doubt that they will continue to expand into new markets. Some of the big names that have recently joined the craze include Sylvester Stallone, Time Magazine, and Spotify. While this is great news not only for the NFT space but all of the blockchain ecosystem, NFTs are yet to have their true potential unlocked. No matter if you are not into NFTs yourself, chances are you have heard of them mostly in terms of collections. Projects like Bored Ape Yacht Club, Cryptopunks, Axie Infinity, and many others, as well as artists like Beeple and Pak, have gathered attention by offering a new way for collectors to hold their pieces. While NFTs are certainly great at digitizing collectibles, the attention on this aspect of them is taking the spotlight from some of its other applications... Which is not necessarily good. Gaming and NFTs Are a Match Made in Heaven Gaming has been a great driver in the adoption of technologies in the past, which has also been the case with blockchain technology. It is not a surprise that tech-savvy gamers are seen as the best audience to drive blockchain technology adoption in the future. While most NFT enthusiasts are already aware of how NFTs are being used to represent in-game assets while providing true ownership, gaming NFTs could actually provide many more benefits to the gaming ecosystem. As NFTs come hand in hand with other aspects of blockchain technology, like smart contracts, smart capabilities can be added to assets that would otherwise be static. Consider the case of Altura, a project that is looking to create the future of gaming by making in-game assets smarter by introducing “smart NFTs”. The integration of such NFTs would bring increased interoperability, transparency, and use cases to assets like loot boxes, which have historically been considered the bane of the gaming industry. At this time, NFTs often need to be minted after the fact as they tend to be static. The use of NFTs powered by smart contracts could also allow game developers to create assets that respond to real-life events after a certain trigger is activated. While there is a lot of room for NFTs to revolutionize gaming, blockchain technology is still young, especially in areas such as web3. Fortunately, projects like Ankr and Polkadot are making it easier for game developers to create NFT and crypto-capable games by providing tools and infrastructure. Ankr is even releasing a ready-made SDK to allow for easy crypto and NFT integration for games made on Unity or Unreal. A Metaverse Without NFTs Wouldn’t Be a Metaverse Just like NFTs, the Metaverse was one of the hottest topics of 2021. Sure, companies like Meta might be making headlines related to metaverse development but what good is a metaverse in which you don’t truly own your assets? The metaverse is all about bringing a life-like experience to its users in terms of liberty, allowing them to interact with it in complex manners. With this in mind, true ownership of assets, avatars, and services is a must. There are few technologies that can serve this function better than NFTs. From functioning as a virtual representation of ownership of an asset to being a representation to access by validating virtual identity, NFTs are a must in any Metaverse. Consider the increasingly popular use cases of virtual concerts in platforms like Animal Concerts: An NFT can operate not only as the ticket to join the fun but also as the means for artists to reward fans who participate. Another example is that of Metaverse e-commerce, which is considered by investors to be a $1 trillion opportunity. With companies like Nike, Olive Garden, Hermes, and even McDonalds joining, there are a lot of options for e-commerce to evolve. It is just natural that virtual malls like Metamall emerge, creating the need for more complex architectures that NFT and web 3 could supply. Real Estate Can Be Digitized Real estate has been one of the most important aspects for a functioning society since human beings started cooperating. However, the model has changed little ever since: claim/buy land and prove ownership with a piece of paper. Well, it might be more complex than that but in general terms, the model is outdated. NFTs were mainly designed as a means to prove ownership over and the authenticity of an asset, which is just what a deed of property does. If property always has to have an owner... Why not make it an NFT? The transparency of the blockchain and its tamper-proof nature ensure no foul play can take place in an industry worth over $10.5 trillion. Such an approach would make it easier for real estate investors and buyers to participate in a global market while helping sellers in the process. The tokenization would also allow real estate to be interacted with in different ways, such as allowing multiple investors to co-own a property or the creation of renting contracts automated by blockchain. Say Goodbye to Physical IDs, Policies, and Records Why stop with real estate? If you can tokenize a deed of ownership, why not tokenize documentation like driver licenses, passports, insurance policies, memberships, etc? Think about how easier it would be to have all of your documentation available from anywhere in the world. With the internet and smart devices access becoming increasingly available by the day to people around the world, this approach is far from a fantasy. In fact, the Covid19 pandemic created a perfect scenario in which NFTs showed their potential to function as a digital ID: vaccination passports. Countries like San Marino, Colombia, and Singapore are already using blockchain technology, while companies like IBM are investing heavily in such a use case. The tokenization of medical records is also a related application gaining ground. This same approach is being expanded to the insurance, health, car, and tech industries. NFT tech is here to stay, and there is no way to know how widely used they will be in the coming years!  Welcome To The Web3 Writing Contest Non-fungible tokens (NFTs) were one of the hottest things in the blockchain ecosystem in 2021, representing more than $17 billion in trading. This year has been no different as the niche is still finding incredible success as more users, celebrities, and organizations adopt them. When it comes to NFTs - there is no doubt that they will continue to expand into new markets. Some of the big names that have recently joined the craze include Sylvester Stallone, Time Magazine, and Spotify. While this is great news not only for the NFT space but all of the blockchain ecosystem, NFTs are yet to have their true potential unlocked. No matter if you are not into NFTs yourself, chances are you have heard of them mostly in terms of collections. Projects like Bored Ape Yacht Club, Cryptopunks, Axie Infinity, and many others, as well as artists like Beeple and Pak, have gathered attention by offering a new way for collectors to hold their pieces. While NFTs are certainly great at digitizing collectibles, the attention on this aspect of them is taking the spotlight from some of its other applications... Which is not necessarily good. Gaming and NFTs Are a Match Made in Heaven Gaming has been a great driver in the adoption of technologies in the past, which has also been the case with blockchain technology. It is not a surprise that tech-savvy gamers are seen as the best audience to drive blockchain technology adoption in the future. While most NFT enthusiasts are already aware of how NFTs are being used to represent in-game assets while providing true ownership, gaming NFTs could actually provide many more benefits to the gaming ecosystem. As NFTs come hand in hand with other aspects of blockchain technology, like smart contracts, smart capabilities can be added to assets that would otherwise be static. Consider the case of Altura, a project that is looking to create the future of gaming by making in-game assets smarter by introducing “smart NFTs”. The integration of such NFTs would bring increased interoperability, transparency, and use cases to assets like loot boxes, which have historically been considered the bane of the gaming industry. At this time, NFTs often need to be minted after the fact as they tend to be static. The use of NFTs powered by smart contracts could also allow game developers to create assets that respond to real-life events after a certain trigger is activated. While there is a lot of room for NFTs to revolutionize gaming, blockchain technology is still young, especially in areas such as web3. Fortunately, projects like Ankr and Polkadot are making it easier for game developers to create NFT and crypto-capable games by providing tools and infrastructure. Ankr is even releasing a ready-made SDK to allow for easy crypto and NFT integration for games made on Unity or Unreal. A Metaverse Without NFTs Wouldn’t Be a Metaverse Just like NFTs, the Metaverse was one of the hottest topics of 2021. Sure, companies like Meta might be making headlines related to metaverse development but what good is a metaverse in which you don’t truly own your assets? The metaverse is all about bringing a life-like experience to its users in terms of liberty, allowing them to interact with it in complex manners. With this in mind, true ownership of assets, avatars, and services is a must. There are few technologies that can serve this function better than NFTs. From functioning as a virtual representation of ownership of an asset to being a representation to access by validating virtual identity, NFTs are a must in any Metaverse. Consider the increasingly popular use cases of virtual concerts in platforms like Animal Concerts: An NFT can operate not only as the ticket to join the fun but also as the means for artists to reward fans who participate. Another example is that of Metaverse e-commerce, which is considered by investors to be a $1 trillion opportunity. With companies like Nike, Olive Garden, Hermes, and even McDonalds joining, there are a lot of options for e-commerce to evolve. It is just natural that virtual malls like Metamall emerge, creating the need for more complex architectures that NFT and web 3 could supply. Real Estate Can Be Digitized Real estate has been one of the most important aspects for a functioning society since human beings started cooperating. However, the model has changed little ever since: claim/buy land and prove ownership with a piece of paper. Well, it might be more complex than that but in general terms, the model is outdated. NFTs were mainly designed as a means to prove ownership over and the authenticity of an asset, which is just what a deed of property does. If property always has to have an owner... Why not make it an NFT? The transparency of the blockchain and its tamper-proof nature ensure no foul play can take place in an industry worth over $10.5 trillion. Such an approach would make it easier for real estate investors and buyers to participate in a global market while helping sellers in the process. The tokenization would also allow real estate to be interacted with in different ways, such as allowing multiple investors to co-own a property or the creation of renting contracts automated by blockchain. Say Goodbye to Physical IDs, Policies, and Records Why stop with real estate? If you can tokenize a deed of ownership, why not tokenize documentation like driver licenses, passports, insurance policies, memberships, etc? Think about how easier it would be to have all of your documentation available from anywhere in the world. With the internet and smart devices access becoming increasingly available by the day to people around the world, this approach is far from a fantasy. In fact, the Covid19 pandemic created a perfect scenario in which NFTs showed their potential to function as a digital ID: vaccination passports. Countries like San Marino, Colombia, and Singapore are already using blockchain technology, while companies like IBM are investing heavily in such a use case. The tokenization of medical records is also a related application gaining ground. This same approach is being expanded to the insurance, health, car, and tech industries. NFT tech is here to stay, and there is no way to know how widely used they will be in the coming years!  ABOUT READ WRITE SPONSOR The HackerNoon Newsletter Quality Weekly Reads About Technology Infiltrating Everything'"
      ]
     },
     "execution_count": 9,
     "metadata": {},
     "output_type": "execute_result"
    }
   ],
   "source": [
    "ARTICLE"
   ]
  },
  {
   "cell_type": "markdown",
   "id": "4fe15b8b",
   "metadata": {},
   "source": [
    "## Optimize Data to Work Better with Model"
   ]
  },
  {
   "cell_type": "code",
   "execution_count": 10,
   "id": "c731e77d",
   "metadata": {},
   "outputs": [],
   "source": [
    "max_chunk = 500"
   ]
  },
  {
   "cell_type": "code",
   "execution_count": 11,
   "id": "f983c91b",
   "metadata": {},
   "outputs": [],
   "source": [
    "ARTICLE = ARTICLE.replace('.', '.<eos>')\n",
    "ARTICLE = ARTICLE.replace('?', '?<eos>')\n",
    "ARTICLE = ARTICLE.replace('!', '!<eos>')"
   ]
  },
  {
   "cell_type": "code",
   "execution_count": 12,
   "id": "f6b1f617",
   "metadata": {},
   "outputs": [
    {
     "data": {
      "text/plain": [
       "'What Good is a Metaverse in Which You Do Not Truly Own Your Assets?<eos> Entrepreneur.<eos> Attorney.<eos> Athlete.<eos> I write about innovations in blockchain and crypto space.<eos> Passionate about DeFi.<eos> Non-fungible tokens (NFTs) were one of the hottest things in the blockchain ecosystem in 2021, representing more than $17 billion in trading.<eos> This year has been no different as the niche is still finding incredible success as more users, celebrities, and organizations adopt them.<eos> When it comes to NFTs - there is no doubt that they will continue to expand into new markets.<eos> Some of the big names that have recently joined the craze include Sylvester Stallone, Time Magazine, and Spotify.<eos> While this is great news not only for the NFT space but all of the blockchain ecosystem, NFTs are yet to have their true potential unlocked.<eos> No matter if you are not into NFTs yourself, chances are you have heard of them mostly in terms of collections.<eos> Projects like Bored Ape Yacht Club, Cryptopunks, Axie Infinity, and many others, as well as artists like Beeple and Pak, have gathered attention by offering a new way for collectors to hold their pieces.<eos> While NFTs are certainly great at digitizing collectibles, the attention on this aspect of them is taking the spotlight from some of its other applications.<eos>.<eos>.<eos> Which is not necessarily good.<eos> Gaming and NFTs Are a Match Made in Heaven Gaming has been a great driver in the adoption of technologies in the past, which has also been the case with blockchain technology.<eos> It is not a surprise that tech-savvy gamers are seen as the best audience to drive blockchain technology adoption in the future.<eos> While most NFT enthusiasts are already aware of how NFTs are being used to represent in-game assets while providing true ownership, gaming NFTs could actually provide many more benefits to the gaming ecosystem.<eos> As NFTs come hand in hand with other aspects of blockchain technology, like smart contracts, smart capabilities can be added to assets that would otherwise be static.<eos> Consider the case of Altura, a project that is looking to create the future of gaming by making in-game assets smarter by introducing “smart NFTs”.<eos> The integration of such NFTs would bring increased interoperability, transparency, and use cases to assets like loot boxes, which have historically been considered the bane of the gaming industry.<eos> At this time, NFTs often need to be minted after the fact as they tend to be static.<eos> The use of NFTs powered by smart contracts could also allow game developers to create assets that respond to real-life events after a certain trigger is activated.<eos> While there is a lot of room for NFTs to revolutionize gaming, blockchain technology is still young, especially in areas such as web3.<eos> Fortunately, projects like Ankr and Polkadot are making it easier for game developers to create NFT and crypto-capable games by providing tools and infrastructure.<eos> Ankr is even releasing a ready-made SDK to allow for easy crypto and NFT integration for games made on Unity or Unreal.<eos> A Metaverse Without NFTs Wouldn’t Be a Metaverse Just like NFTs, the Metaverse was one of the hottest topics of 2021.<eos> Sure, companies like Meta might be making headlines related to metaverse development but what good is a metaverse in which you don’t truly own your assets?<eos> The metaverse is all about bringing a life-like experience to its users in terms of liberty, allowing them to interact with it in complex manners.<eos> With this in mind, true ownership of assets, avatars, and services is a must.<eos> There are few technologies that can serve this function better than NFTs.<eos> From functioning as a virtual representation of ownership of an asset to being a representation to access by validating virtual identity, NFTs are a must in any Metaverse.<eos> Consider the increasingly popular use cases of virtual concerts in platforms like Animal Concerts: An NFT can operate not only as the ticket to join the fun but also as the means for artists to reward fans who participate.<eos> Another example is that of Metaverse e-commerce, which is considered by investors to be a $1 trillion opportunity.<eos> With companies like Nike, Olive Garden, Hermes, and even McDonalds joining, there are a lot of options for e-commerce to evolve.<eos> It is just natural that virtual malls like Metamall emerge, creating the need for more complex architectures that NFT and web 3 could supply.<eos> Real Estate Can Be Digitized Real estate has been one of the most important aspects for a functioning society since human beings started cooperating.<eos> However, the model has changed little ever since: claim/buy land and prove ownership with a piece of paper.<eos> Well, it might be more complex than that but in general terms, the model is outdated.<eos> NFTs were mainly designed as a means to prove ownership over and the authenticity of an asset, which is just what a deed of property does.<eos> If property always has to have an owner.<eos>.<eos>.<eos> Why not make it an NFT?<eos> The transparency of the blockchain and its tamper-proof nature ensure no foul play can take place in an industry worth over $10.<eos>5 trillion.<eos> Such an approach would make it easier for real estate investors and buyers to participate in a global market while helping sellers in the process.<eos> The tokenization would also allow real estate to be interacted with in different ways, such as allowing multiple investors to co-own a property or the creation of renting contracts automated by blockchain.<eos> Say Goodbye to Physical IDs, Policies, and Records Why stop with real estate?<eos> If you can tokenize a deed of ownership, why not tokenize documentation like driver licenses, passports, insurance policies, memberships, etc?<eos> Think about how easier it would be to have all of your documentation available from anywhere in the world.<eos> With the internet and smart devices access becoming increasingly available by the day to people around the world, this approach is far from a fantasy.<eos> In fact, the Covid19 pandemic created a perfect scenario in which NFTs showed their potential to function as a digital ID: vaccination passports.<eos> Countries like San Marino, Colombia, and Singapore are already using blockchain technology, while companies like IBM are investing heavily in such a use case.<eos> The tokenization of medical records is also a related application gaining ground.<eos> This same approach is being expanded to the insurance, health, car, and tech industries.<eos> NFT tech is here to stay, and there is no way to know how widely used they will be in the coming years!<eos>  Welcome To The Web3 Writing Contest Non-fungible tokens (NFTs) were one of the hottest things in the blockchain ecosystem in 2021, representing more than $17 billion in trading.<eos> This year has been no different as the niche is still finding incredible success as more users, celebrities, and organizations adopt them.<eos> When it comes to NFTs - there is no doubt that they will continue to expand into new markets.<eos> Some of the big names that have recently joined the craze include Sylvester Stallone, Time Magazine, and Spotify.<eos> While this is great news not only for the NFT space but all of the blockchain ecosystem, NFTs are yet to have their true potential unlocked.<eos> No matter if you are not into NFTs yourself, chances are you have heard of them mostly in terms of collections.<eos> Projects like Bored Ape Yacht Club, Cryptopunks, Axie Infinity, and many others, as well as artists like Beeple and Pak, have gathered attention by offering a new way for collectors to hold their pieces.<eos> While NFTs are certainly great at digitizing collectibles, the attention on this aspect of them is taking the spotlight from some of its other applications.<eos>.<eos>.<eos> Which is not necessarily good.<eos> Gaming and NFTs Are a Match Made in Heaven Gaming has been a great driver in the adoption of technologies in the past, which has also been the case with blockchain technology.<eos> It is not a surprise that tech-savvy gamers are seen as the best audience to drive blockchain technology adoption in the future.<eos> While most NFT enthusiasts are already aware of how NFTs are being used to represent in-game assets while providing true ownership, gaming NFTs could actually provide many more benefits to the gaming ecosystem.<eos> As NFTs come hand in hand with other aspects of blockchain technology, like smart contracts, smart capabilities can be added to assets that would otherwise be static.<eos> Consider the case of Altura, a project that is looking to create the future of gaming by making in-game assets smarter by introducing “smart NFTs”.<eos> The integration of such NFTs would bring increased interoperability, transparency, and use cases to assets like loot boxes, which have historically been considered the bane of the gaming industry.<eos> At this time, NFTs often need to be minted after the fact as they tend to be static.<eos> The use of NFTs powered by smart contracts could also allow game developers to create assets that respond to real-life events after a certain trigger is activated.<eos> While there is a lot of room for NFTs to revolutionize gaming, blockchain technology is still young, especially in areas such as web3.<eos> Fortunately, projects like Ankr and Polkadot are making it easier for game developers to create NFT and crypto-capable games by providing tools and infrastructure.<eos> Ankr is even releasing a ready-made SDK to allow for easy crypto and NFT integration for games made on Unity or Unreal.<eos> A Metaverse Without NFTs Wouldn’t Be a Metaverse Just like NFTs, the Metaverse was one of the hottest topics of 2021.<eos> Sure, companies like Meta might be making headlines related to metaverse development but what good is a metaverse in which you don’t truly own your assets?<eos> The metaverse is all about bringing a life-like experience to its users in terms of liberty, allowing them to interact with it in complex manners.<eos> With this in mind, true ownership of assets, avatars, and services is a must.<eos> There are few technologies that can serve this function better than NFTs.<eos> From functioning as a virtual representation of ownership of an asset to being a representation to access by validating virtual identity, NFTs are a must in any Metaverse.<eos> Consider the increasingly popular use cases of virtual concerts in platforms like Animal Concerts: An NFT can operate not only as the ticket to join the fun but also as the means for artists to reward fans who participate.<eos> Another example is that of Metaverse e-commerce, which is considered by investors to be a $1 trillion opportunity.<eos> With companies like Nike, Olive Garden, Hermes, and even McDonalds joining, there are a lot of options for e-commerce to evolve.<eos> It is just natural that virtual malls like Metamall emerge, creating the need for more complex architectures that NFT and web 3 could supply.<eos> Real Estate Can Be Digitized Real estate has been one of the most important aspects for a functioning society since human beings started cooperating.<eos> However, the model has changed little ever since: claim/buy land and prove ownership with a piece of paper.<eos> Well, it might be more complex than that but in general terms, the model is outdated.<eos> NFTs were mainly designed as a means to prove ownership over and the authenticity of an asset, which is just what a deed of property does.<eos> If property always has to have an owner.<eos>.<eos>.<eos> Why not make it an NFT?<eos> The transparency of the blockchain and its tamper-proof nature ensure no foul play can take place in an industry worth over $10.<eos>5 trillion.<eos> Such an approach would make it easier for real estate investors and buyers to participate in a global market while helping sellers in the process.<eos> The tokenization would also allow real estate to be interacted with in different ways, such as allowing multiple investors to co-own a property or the creation of renting contracts automated by blockchain.<eos> Say Goodbye to Physical IDs, Policies, and Records Why stop with real estate?<eos> If you can tokenize a deed of ownership, why not tokenize documentation like driver licenses, passports, insurance policies, memberships, etc?<eos> Think about how easier it would be to have all of your documentation available from anywhere in the world.<eos> With the internet and smart devices access becoming increasingly available by the day to people around the world, this approach is far from a fantasy.<eos> In fact, the Covid19 pandemic created a perfect scenario in which NFTs showed their potential to function as a digital ID: vaccination passports.<eos> Countries like San Marino, Colombia, and Singapore are already using blockchain technology, while companies like IBM are investing heavily in such a use case.<eos> The tokenization of medical records is also a related application gaining ground.<eos> This same approach is being expanded to the insurance, health, car, and tech industries.<eos> NFT tech is here to stay, and there is no way to know how widely used they will be in the coming years!<eos>  ABOUT READ WRITE SPONSOR The HackerNoon Newsletter Quality Weekly Reads About Technology Infiltrating Everything'"
      ]
     },
     "execution_count": 12,
     "metadata": {},
     "output_type": "execute_result"
    }
   ],
   "source": [
    "ARTICLE"
   ]
  },
  {
   "cell_type": "code",
   "execution_count": 13,
   "id": "3ddf36cd",
   "metadata": {},
   "outputs": [
    {
     "name": "stdout",
     "output_type": "stream",
     "text": [
      "0\n"
     ]
    }
   ],
   "source": [
    "sentences = ARTICLE.split('<eos>')\n",
    "current_chunk = 0 \n",
    "chunks = []\n",
    "for sentence in sentences:\n",
    "    if len(chunks) == current_chunk + 1: \n",
    "        if len(chunks[current_chunk]) + len(sentence.split(' ')) <= max_chunk:\n",
    "            chunks[current_chunk].extend(sentence.split(' '))\n",
    "        else:\n",
    "            current_chunk += 1\n",
    "            chunks.append(sentence.split(' '))\n",
    "    else:\n",
    "        print(current_chunk)\n",
    "        chunks.append(sentence.split(' '))\n",
    "\n",
    "for chunk_id in range(len(chunks)):\n",
    "    chunks[chunk_id] = ' '.join(chunks[chunk_id])"
   ]
  },
  {
   "cell_type": "code",
   "execution_count": 14,
   "id": "a981ea07",
   "metadata": {},
   "outputs": [
    {
     "data": {
      "text/plain": [
       "5"
      ]
     },
     "execution_count": 14,
     "metadata": {},
     "output_type": "execute_result"
    }
   ],
   "source": [
    "len(chunks)"
   ]
  },
  {
   "cell_type": "markdown",
   "id": "c57ec9e3",
   "metadata": {},
   "source": [
    "## Get Summary"
   ]
  },
  {
   "cell_type": "code",
   "execution_count": 15,
   "id": "88947208",
   "metadata": {},
   "outputs": [],
   "source": [
    "res = summarizer(chunks, max_length=120, min_length=30, do_sample=False)"
   ]
  },
  {
   "cell_type": "code",
   "execution_count": 16,
   "id": "d5537e2c",
   "metadata": {},
   "outputs": [
    {
     "data": {
      "text/plain": [
       "{'summary_text': ' Non-fungible tokens (NFTs) were one of the hottest things in the blockchain ecosystem in 2021, representing more than $17 billion in trading . Some of the big names that have recently joined the craze include Sylvester Stallone, Time Magazine, and Spotify . Gaming has been a great driver in the adoption of technologies in the past, which has also been the case with blockchain technology . While there is a lot of room for NFTs to revolutionize gaming, blockchain technology is still young .'}"
      ]
     },
     "execution_count": 16,
     "metadata": {},
     "output_type": "execute_result"
    }
   ],
   "source": [
    "res[0]"
   ]
  },
  {
   "cell_type": "code",
   "execution_count": 18,
   "id": "ff6474c9",
   "metadata": {},
   "outputs": [],
   "source": [
    "summary = ' '.join([summ['summary_text'] for summ in res])"
   ]
  },
  {
   "cell_type": "code",
   "execution_count": 19,
   "id": "24a25c63",
   "metadata": {},
   "outputs": [
    {
     "data": {
      "text/plain": [
       "' Non-fungible tokens (NFTs) were one of the hottest things in the blockchain ecosystem in 2021, representing more than $17 billion in trading . Some of the big names that have recently joined the craze include Sylvester Stallone, Time Magazine, and Spotify . Gaming has been a great driver in the adoption of technologies in the past, which has also been the case with blockchain technology . While there is a lot of room for NFTs to revolutionize gaming, blockchain technology is still young .  A Metaverse without NFTs would be one of the hottest topics of 2021 . The Metaverse is all about bringing a life-like experience to its users in terms of liberty, allowing them to interact with it in complex manners . The transparency of the blockchain and its tamper-proof nature ensure no foul play can take place in an industry worth over $10.5 trillion .  Non-fungible tokens (NFTs) were one of the hottest things in the blockchain ecosystem in 2021, representing more than $17 billion in trading . Gaming and NFTs are a match made in Heaven . Gaming has been a great driver in the adoption of technologies in the past, which has also been the case with blockchain technology .  Altura is looking to create the future of gaming by making in-game assets smarter by introducing “smart NFTs” Smart smart contracts could also allow game developers to create assets that respond to real-life events after a trigger is activated . While there is a lot of room to revolutionize gaming, blockchain technology is still young, especially in areas such as web3 .  The transparency of the blockchain and its tamper-proof nature ensure no foul play can take place in an industry worth over $10.5 trillion . Such an approach would make it easier for real estate investors and buyers to participate in a global market while helping sellers in the process . NFTs were mainly designed as a means to prove ownership over and the authenticity of an asset .'"
      ]
     },
     "execution_count": 19,
     "metadata": {},
     "output_type": "execute_result"
    }
   ],
   "source": [
    "summary"
   ]
  },
  {
   "cell_type": "markdown",
   "id": "7ef397eb",
   "metadata": {},
   "source": [
    "## Save Summary as txt File"
   ]
  },
  {
   "cell_type": "code",
   "execution_count": 21,
   "id": "7b41a875",
   "metadata": {},
   "outputs": [],
   "source": [
    "with open('blogsummary.txt', 'w') as f:\n",
    "    f.write(summary)"
   ]
  }
 ],
 "metadata": {
  "kernelspec": {
   "display_name": "Python 3",
   "language": "python",
   "name": "python3"
  },
  "language_info": {
   "codemirror_mode": {
    "name": "ipython",
    "version": 3
   },
   "file_extension": ".py",
   "mimetype": "text/x-python",
   "name": "python",
   "nbconvert_exporter": "python",
   "pygments_lexer": "ipython3",
   "version": "3.7.10"
  }
 },
 "nbformat": 4,
 "nbformat_minor": 5
}
